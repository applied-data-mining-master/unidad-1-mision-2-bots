{
  "nbformat": 4,
  "nbformat_minor": 0,
  "metadata": {
    "kernelspec": {
      "display_name": "Python 3",
      "language": "python",
      "name": "python3"
    },
    "language_info": {
      "codemirror_mode": {
        "name": "ipython",
        "version": 3
      },
      "file_extension": ".py",
      "mimetype": "text/x-python",
      "name": "python",
      "nbconvert_exporter": "python",
      "pygments_lexer": "ipython3",
      "version": "3.8.5"
    },
    "colab": {
      "name": "Activity1_01.ipynb",
      "provenance": [],
      "collapsed_sections": []
    }
  },
  "cells": [
    {
      "cell_type": "markdown",
      "metadata": {
        "id": "4CLlLAHQP6dL"
      },
      "source": [
        "# Activity 1.01: Generating All Possible Sequences of Steps in a Tic-Tac-Toe Game\n",
        "\n",
        "This activity will explore the combinatorial explosion that is possible when two players play randomly. We will be using a program that, building on the previous results, generates all possible sequences of moves between a computer player and a human player.\n",
        "\n",
        "Let's assume that the human player may make any possible move. In this example, given that the computer player is playing randomly, we will examine the wins, losses, and draws belonging to two randomly playing players.\n",
        "\n",
        "Expected output:\n",
        "\n",
        "```\n",
        "step 0. Moves: 1\n",
        "step 1. Moves: 9\n",
        "step 2. Moves: 72\n",
        "step 3. Moves: 504\n",
        "step 4. Moves: 3024\n",
        "step 5. Moves: 13680\n",
        "step 6. Moves: 49402\n",
        "step 7. Moves: 111109\n",
        "step 8. Moves: 156775\n",
        "First player wins: 106279\n",
        "Second player wins: 68644\n",
        "Draw 91150\n",
        "Total 266073\n",
        "```\n",
        "\n",
        "  > **Hints**  \n",
        "  >  1. Reuse all the function codes of Steps 1–9 from the Exercise 1.02.\n",
        "  >  2. Create a function that maps the `all_moves_from_board` function on each element of a list of board spaces/squares. This way, we will have all of the nodes of a decision tree. The decision tree starts with `[ EMPTY_SIGN * 9 ]` and expands after each move.\n",
        "  >  3. Create a `filter_wins` function that takes finished games out of the list of moves and appends them in an array containing the board states won by the AI player and the opponent player.\n",
        "  >  4. Create a `count_possibilities` function that prints and returns the number of decision tree leaves that ended with a draw, were won by the first player, and were won by the second player.\n",
        "  >  5. We have up to nine steps in each state. In the 0th, 2nd, 4th, 6th, and 8th iterations, the AI player moves. In all other iterations, the opponent moves. We create all possible moves in all steps and take out finished games from the move list.\n",
        "  >  6. Finally, execute the number of possibilities to experience the combinatorial explosion."
      ]
    },
    {
      "cell_type": "code",
      "metadata": {
        "id": "D_uBeJt0P6dy"
      },
      "source": [
        "from random import choice\r\n",
        "wins= [\r\n",
        "    [0, 1, 2],\r\n",
        "    [3, 4, 5],\r\n",
        "    [6, 7, 8],\r\n",
        "    [0, 3, 6],\r\n",
        "    [1, 4, 7],\r\n",
        "    [2, 5, 8],\r\n",
        "    [0, 4, 8],\r\n",
        "    [2, 4, 6]\r\n",
        "]\r\n",
        "EMPTY_SIGN='-'\r\n",
        "IA_SIGN='X'\r\n",
        "PLAYER_SIGN='O'\r\n",
        "\r\n",
        "def prtBoard(board):\r\n",
        "    cells=board\r\n",
        "    print('Fila/Col     1   2   3 ')\r\n",
        "    print('\\t1    ' + cells[0] + ' | ' + cells[1] + ' | ' + cells[2])\r\n",
        "    print('\\t    -----------')\r\n",
        "    print('\\t2    ' + cells[3] + ' | ' + cells[4] + ' | ' + cells[5])\r\n",
        "    print('\\t    -----------')\r\n",
        "    print('\\t3    ' + cells[6] + ' | ' + cells[7] + ' | ' + cells[8])\r\n",
        "\r\n",
        "def player_move(board, fila, columna):\r\n",
        "  while True:\r\n",
        "    index = 3 * (fila - 1) + (columna - 1)\r\n",
        "    if board[index] == EMPTY_SIGN:\r\n",
        "      return board[:index] + PLAYER_SIGN + board[index+1:]\r\n",
        "    else:\r\n",
        "      print('\\nFila: '+ str(fila) +' Columna: '+ str(columna))\r\n",
        "      print('Esta posicion ya esta ocupada, Elige otra celda...\\n\\n')\r\n",
        "      prtBoard(board)\r\n",
        "      fila = int(input('Ingresa la Fila: '))\r\n",
        "      columna = int(input('Ingresa la Columna: '))\r\n",
        "\r\n",
        "def ia_move(board):\r\n",
        "    return choice(all_moves_from_board(board, IA_SIGN))\r\n",
        "\r\n",
        "def game_won_by(board):\r\n",
        "    for idx in wins:\r\n",
        "        if board[idx[0]] == board[idx[1]] == board[idx[2]] != EMPTY_SIGN:\r\n",
        "            return board[idx[0]]\r\n",
        "    return EMPTY_SIGN\r\n",
        "\r\n",
        "def juego_Gato():\r\n",
        "    fin= False\r\n",
        "    empty_cell_count = 9\r\n",
        "    board = EMPTY_SIGN * 9\r\n",
        "    print('TIC TAC TOE GAME\\n\\n')\r\n",
        "    nombre = input('Teclea tu Nombre: ')\r\n",
        "    print('Comienza el Juego!')\r\n",
        "    while empty_cell_count > 0 and not fin:\r\n",
        "        if empty_cell_count % 2 == 1:\r\n",
        "            print('\\n\\n\\nTurno de la IA\\n')\r\n",
        "            board = ia_move(board)\r\n",
        "        else:\r\n",
        "            print('\\n\\n\\nTurno de '+ nombre)\r\n",
        "            fila = int(input('Ingresa la Fila: '))\r\n",
        "            columna = int(input('Ingresa la Columna: '))\r\n",
        "            print('')\r\n",
        "            board = player_move(board, fila, columna)\r\n",
        "        prtBoard(board)\r\n",
        "        game = game_won_by(board)\r\n",
        "        fin =  game != EMPTY_SIGN\r\n",
        "        empty_cell_count = sum(1 for cell in board if cell == EMPTY_SIGN) \r\n",
        "    if game== IA_SIGN:\r\n",
        "      print('Lo sentimos, Haz Perdido :(')\r\n",
        "    else:\r\n",
        "      print('Felicidades '+ nombre+' Haz GANADO!!!')\r\n",
        "    print('Fin Del Juego.')"
      ],
      "execution_count": 1,
      "outputs": []
    },
    {
      "cell_type": "code",
      "metadata": {
        "id": "n_gxsnImP6d7"
      },
      "source": [
        ""
      ],
      "execution_count": 1,
      "outputs": []
    },
    {
      "cell_type": "code",
      "metadata": {
        "id": "45soZyo-P6d8"
      },
      "source": [
        "def all_moves_from_board(board, sign):\r\n",
        "    lmove = []\r\n",
        "    for i, y in enumerate(board):\r\n",
        "        if y == EMPTY_SIGN:\r\n",
        "            lmove.append(board[:i] + sign + board[i+1:])\r\n",
        "    return lmove\r\n",
        "    \r\n",
        "def count_possibilities(): \r\n",
        "  lmoves = [EMPTY_SIGN * 9]\r\n",
        "  ia_wins = []\r\n",
        "  player_wins = []\r\n",
        "  for i in range(9):\r\n",
        "    print('Pasos ' + str(i) + '. Movimientos: ' +  str(len(lmoves)))\r\n",
        "    sign = IA_SIGN if i % 2 == 0 else PLAYER_SIGN\r\n",
        "    lmoves = all_moves_from_board_list(lmoves, sign)\r\n",
        "    \r\n",
        "    for b in lmoves:\r\n",
        "      won_by = game_won_by(b)\r\n",
        "      if won_by == IA_SIGN:\r\n",
        "        ia_wins.append(b)\r\n",
        "        lmoves.remove(b)\r\n",
        "      elif won_by == PLAYER_SIGN:\r\n",
        "        player_wins.append(b)\r\n",
        "        lmoves.remove(b)\r\n",
        "  print('IA Wins: ' + str(len(ia_wins)))\r\n",
        "  print('Player wins: ' + str(len(player_wins)))\r\n",
        "  print('Draw', str(len(lmoves)))\r\n",
        "  print('Total', str(len(ia_wins) + len(player_wins) +  len(lmoves)))\r\n",
        "\r\n",
        "\r\n",
        "def all_moves_from_board_list(board, sign):\r\n",
        "  lmoves = []\r\n",
        "  for b in board:\r\n",
        "    lmoves.extend(all_moves_from_board(b,sign))\r\n",
        "  return lmoves\r\n"
      ],
      "execution_count": 2,
      "outputs": []
    },
    {
      "cell_type": "code",
      "metadata": {
        "colab": {
          "base_uri": "https://localhost:8080/"
        },
        "id": "sVq7DKlRP6d8",
        "outputId": "77510ef5-0099-47d1-f32a-15284801ac70"
      },
      "source": [
        "count_possibilities()"
      ],
      "execution_count": 3,
      "outputs": [
        {
          "output_type": "stream",
          "text": [
            "Pasos 0. Movimientos: 1\n",
            "Pasos 1. Movimientos: 9\n",
            "Pasos 2. Movimientos: 72\n",
            "Pasos 3. Movimientos: 504\n",
            "Pasos 4. Movimientos: 3024\n",
            "Pasos 5. Movimientos: 13680\n",
            "Pasos 6. Movimientos: 49402\n",
            "Pasos 7. Movimientos: 111109\n",
            "Pasos 8. Movimientos: 156775\n",
            "IA Wins: 106279\n",
            "Player wins: 68644\n",
            "Draw 91150\n",
            "Total 266073\n"
          ],
          "name": "stdout"
        }
      ]
    },
    {
      "cell_type": "code",
      "metadata": {
        "id": "ojcy1zEHP6d9"
      },
      "source": [
        ""
      ],
      "execution_count": 3,
      "outputs": []
    },
    {
      "cell_type": "code",
      "metadata": {
        "id": "h_6yP8OGP6d9"
      },
      "source": [
        ""
      ],
      "execution_count": 3,
      "outputs": []
    },
    {
      "cell_type": "markdown",
      "metadata": {
        "id": "U1NeGkihP6d-"
      },
      "source": [
        "As you can see, the tree of the board states consists of a total of $266073$ leaves. The `count_possibilities` function essentially implements a BFS algorithm to traverse all the possible states of the game. Notice that we count these states multiple times because placing an $X$ in the top-right corner in Step 1 and placing an $X$ in the top-left corner in Step 3 leads to similar possible states as starting with the top-left corner and then placing an $X$ in the top-right corner. If we implemented the detection of duplicate states, we would have to check fewer nodes. However, at this stage, due to the limited depth of the game, we will omit this step.\n",
        "\n",
        "A decision tree, however, is identical to the data structure examined by `count_possibilities`. In a decision tree, we explore the utility of each move by investigating all possible future steps up to a certain extent. In our example, we could calculate the utility of the initial moves by observing the number of wins and losses after fixing the first few moves."
      ]
    },
    {
      "cell_type": "code",
      "metadata": {
        "id": "mMnC_NaFP6d_"
      },
      "source": [
        ""
      ],
      "execution_count": 3,
      "outputs": []
    }
  ]
}